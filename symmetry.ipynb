{
 "cells": [
  {
   "cell_type": "code",
   "execution_count": null,
   "metadata": {
    "collapsed": false,
    "deletable": true,
    "editable": true,
    "scrolled": false
   },
   "outputs": [],
   "source": [
    "import numpy as np\n",
    "from numpy.linalg import matrix_power\n",
    "from numpy import dot, einsum, array, arange, stack, ones, array_equal\n",
    "from itertools import product as iter_product\n",
    "\n",
    "M = 4\n",
    "N = M**2\n",
    "\n",
    "def inv(x):\n",
    "    return np.linalg.inv(x).astype(np.int)\n",
    "\n",
    "def mod(g):\n",
    "    return np.array([g.T[0], g.T[1], g.T[2] % M]).T\n",
    "\n",
    "def plot(g):\n",
    "    coords = stack(np.unravel_index(arange(N), (M, M))+(ones(N, dtype=np.int),), 1)\n",
    "    transformed = np.einsum('ab,nb->na', g, coords)\n",
    "    res = np.zeros((M, M), dtype=np.int)-1\n",
    "    for n, (i, j, _) in enumerate(transformed):\n",
    "        res[i % M, j % M] = n\n",
    "    return res\n",
    "\n",
    "def product(A, B):\n",
    "    return mod(stack((dot(a, b) for a, b in iter_product(A, B)), 0))\n",
    "\n",
    "def generate(a, n):\n",
    "    return mod(stack((matrix_power(a, i) for i in range(n)), 0))\n",
    "\n",
    "def order(G):\n",
    "    return len(set([np.array_str(g) for g in G]))\n",
    "\n",
    "def same(A, B):\n",
    "    A_str = sorted([np.array_str(a) for a in mod(A)])\n",
    "    B_str = sorted([np.array_str(b) for b in mod(B)])\n",
    "    return A_str == B_str\n",
    "\n",
    "def neighbours(grid):\n",
    "    grid_flat = grid.flatten()\n",
    "    coords = np.stack(np.unravel_index(arange(N), (M, M)), 1)\n",
    "    offset = np.array([[0, 1], [0, -1], [1, 0], [-1, 0]])\n",
    "    neighbour_coords = coords[:, np.newaxis, :] + offset\n",
    "    neighbours = grid_flat[np.ravel_multi_index(np.transpose(neighbour_coords, (2, 0, 1)), (M, M), 'wrap')]\n",
    "    return {grid_flat[i]: sorted(neighbours[i]) for i in range(N)}\n",
    "    \n",
    "r0 = array([[0, -1, 0], [1, 0, 0], [0, 0, 1]])\n",
    "m0 = array([[1, 0, 0], [0, -1, 0], [0, 0, 1]])\n",
    "D4 = product(generate(r0, 4), generate(m0, 2))\n",
    "\n",
    "i0 = array([[1, 0, 1], [0, 1, 0], [0, 0, 1]])\n",
    "j0 = array([[1, 0, 0], [0, 1, 1], [0, 0, 1]])\n",
    "T = product(generate(i0, M), generate(j0, M))\n",
    "\n",
    "G = product(D4, T)\n",
    "\n",
    "# Group axioms\n",
    "\n",
    "# 1. Closure\n",
    "for a, b in iter_product(G, G):\n",
    "    assert mod(np.dot(a, b)) in G\n",
    "    \n",
    "# 2. Associativity\n",
    "for a, b, c in iter_product(G, G, G):\n",
    "    assert array_equal(mod(np.dot(a, mod(np.dot(b, c)))), mod(np.dot(mod(np.dot(a, b)), c)))\n",
    "\n",
    "# 3. Identity is identity matrix\n",
    "    \n",
    "# 4. Inverse\n",
    "for g in G:\n",
    "    assert mod(inv(g)) in G\n",
    "    assert array_equal(mod(mod(inv(g)).dot(g)), np.eye(3))\n",
    "    assert array_equal(mod(g.dot(mod(inv(g)))), np.eye(3))\n",
    "    \n",
    "# Product sane\n",
    "assert same(product(T, D4), product(D4, T))\n",
    "assert order(T) * order(D4) == order(product(T, D4)) == 8 * M**2\n",
    "\n",
    "# Product well defined: gt' = gt if t'=t\n",
    "for g, t in iter_product(G, T):\n",
    "    for p, q in iter_product([-1, 0, 1], [-1, 0, 1]):\n",
    "        offset = np.dot(matrix_power(i0, M*p), matrix_power(j0, M*q))\n",
    "        t_prime = np.dot(t, offset)\n",
    "    assert array_equal(mod(np.dot(g, t)), mod(np.dot(g, t_prime)))\n",
    "\n",
    "# Normal subgroup\n",
    "for t, g in iter_product(T, G):\n",
    "    assert mod(np.dot(mod(np.dot(g, t)), inv(g))) in T\n",
    "    \n",
    "# Symmetry on periodic lattice (induces bijection)\n",
    "for g in G:\n",
    "    assert (plot(g) == -1).sum() == 0\n",
    "    \n",
    "# Preserves neighbours\n",
    "identity_neighbours = neighbours(plot(T[0]))\n",
    "for g in G:\n",
    "    assert neighbours(plot(g)) == identity_neighbours\n",
    "    \n",
    "print(\"Assertions succesful\")"
   ]
  },
  {
   "cell_type": "code",
   "execution_count": 267,
   "metadata": {
    "collapsed": false,
    "deletable": true,
    "editable": true
   },
   "outputs": [
    {
     "data": {
      "text/plain": [
       "array([[65, 55, 45, 35, 25, 15,  5, 95, 85, 75],\n",
       "       [64, 54, 44, 34, 24, 14,  4, 94, 84, 74],\n",
       "       [63, 53, 43, 33, 23, 13,  3, 93, 83, 73],\n",
       "       [62, 52, 42, 32, 22, 12,  2, 92, 82, 72],\n",
       "       [61, 51, 41, 31, 21, 11,  1, 91, 81, 71],\n",
       "       [60, 50, 40, 30, 20, 10,  0, 90, 80, 70],\n",
       "       [69, 59, 49, 39, 29, 19,  9, 99, 89, 79],\n",
       "       [68, 58, 48, 38, 28, 18,  8, 98, 88, 78],\n",
       "       [67, 57, 47, 37, 27, 17,  7, 97, 87, 77],\n",
       "       [66, 56, 46, 36, 26, 16,  6, 96, 86, 76]])"
      ]
     },
     "execution_count": 267,
     "metadata": {},
     "output_type": "execute_result"
    }
   ],
   "source": [
    "grid = plot(mod(np.dot(D4[7], T[5])))\n",
    "grid"
   ]
  },
  {
   "cell_type": "code",
   "execution_count": 270,
   "metadata": {
    "collapsed": false,
    "deletable": true,
    "editable": true
   },
   "outputs": [
    {
     "data": {
      "text/plain": [
       "[2, 11, 13, 22]"
      ]
     },
     "execution_count": 270,
     "metadata": {},
     "output_type": "execute_result"
    }
   ],
   "source": [
    "neighbours(grid)[12]"
   ]
  }
 ],
 "metadata": {
  "kernelspec": {
   "display_name": "Python 2",
   "language": "python",
   "name": "python2"
  },
  "language_info": {
   "codemirror_mode": {
    "name": "ipython",
    "version": 2
   },
   "file_extension": ".py",
   "mimetype": "text/x-python",
   "name": "python",
   "nbconvert_exporter": "python",
   "pygments_lexer": "ipython2",
   "version": "2.7.13"
  }
 },
 "nbformat": 4,
 "nbformat_minor": 2
}
